{
 "cells": [
  {
   "cell_type": "markdown",
   "metadata": {},
   "source": [
    "# box-authentication\n",
    "> Using box authentication\n",
    "\n",
    "If you need to use Box authentication for accessing your files, use the document below to get started.  You'll need to do some setup steps on your own, so make sure that you read this document and refer to the associated reference files."
   ]
  },
  {
   "cell_type": "markdown",
   "metadata": {},
   "source": [
    "# Setting up Box for Apps\n",
    "## Set up Box Developer\n",
    "In order to access your files on Box, you'll need to set up an app.  Visit https://developer.box.com/ and click the `MyApps` button on the upper right hand corner. Sign in using your Vanderbilt email.  You'll be taken to single sign on where you'll enter your credentials.\n",
    "\n",
    "Click the `Create New App` button.  Choose `Custom App` and then click the `User Authentication (Oauth 2.0)` radio button.  These two selections will enable you to be able to download and access your files without requiring explicit approval from the Enterprise (i.e., Vanderbilt) Box administrator.  More information on types of Box apps can be found here: https://developer.box.com/guides/applications/\n",
    "\n",
    "Give your app a name.\n",
    "\n",
    "## Configure your app access\n",
    "Now that you've created your app, you'll set up the oauth parameters.  In the `redirect uri` box, type `http://localhost`.  Make sure the `Write all files and folders in Box` checkbox is checked since you'll want to download your files.  Click the blue `Save Changes` button.  Keep this page open because you'll need the `Client ID` and `Client Secret` fields for the next step.\n",
    "\n",
    "## Create authentication file\n",
    "In the main directory of this repo, create a file called `client_oauth.py`.  This will contain all of your access credentials.  **DO NOT** check this file into the repo.  In this file, you should have the following 3 lines, where `client_id` and `client_secret` are given by the values for your app.  Copy and paste them as a string here.  An example is shown below with fabricated values for client_id and client_secret:\n",
    "```\n",
    "client_id = 'sleirher87837483y42ksj'\n",
    "client_secret = '34878rudhfu3437g73'\n",
    "client_redirect_url = 'http://localhost'\n",
    "```\n",
    "Note that the redirect URI here should match the one set in your app on Box Developer."
   ]
  },
  {
   "cell_type": "markdown",
   "metadata": {},
   "source": [
    "# Using authentication within your project\n",
    "Below are some functions that you can use within your project to first authenticate and then retrieve a file.  For more ways to interact with Box (e.g., accessing whole folders, listing folder contents, etc., see https://developer.box.com/guides/ ).\n",
    "\n",
    "## Authentication dance\n",
    "Below, you'll see two functions.  The first - `start_box_authentication` requires the imports of your created `client_oauth.py` file and the `Client` and `OAuth2` modules of the the `boxsdk` package.  See below for usage.  \n",
    "\n",
    "After you've run this function, a new window will open which require you to sign into Box and allow access to the folders.  After you agree, you'll be redirected to localhost (which should fail to load page content).  Although there will be no page content, look at the url.  Near the middle of the url, you should see part of the url which starts with `code=lerwlerh2o3hyweiuhrlsiudjfn`.  Copy everything after the equals sign, and use that as the `access_token` input to the `read_data_from_box` function provided below.  You'll need to be quick - the code only lasts 10 seconds!\n",
    "\n",
    "Make sure you have the `file_id` parameter set for the desired file (obtained from opening the file of interest on Box, and the `file_id` is the numerical value in the URL of the file/folder of interest).  Run this cell and your file should be read."
   ]
  },
  {
   "cell_type": "code",
   "execution_count": null,
   "metadata": {},
   "outputs": [],
   "source": [
    "#default_exp load_data\n",
    "#all_no_test"
   ]
  },
  {
   "cell_type": "code",
   "execution_count": null,
   "metadata": {},
   "outputs": [],
   "source": [
    "#export\n",
    "import client_oauth\n",
    "from boxsdk import Client, OAuth2\n",
    "import pandas as pd"
   ]
  },
  {
   "cell_type": "code",
   "execution_count": null,
   "metadata": {},
   "outputs": [],
   "source": [
    "#export\n",
    "def start_box_authentication():\n",
    "    '''\n",
    "    Function start_box_authentication: starts box authentication and opens authorization window for Box access.  Make sure you copy\n",
    "        the access code from the redirect window and input it into the read_data_from_box function within 10 seconds.\n",
    "        Inputs: None\n",
    "        Returns: OAuth2 instance to be used for authentication\n",
    "    '''\n",
    "    \n",
    "    # create oauth\n",
    "    oauth = OAuth2(\n",
    "        client_id = client_oauth.client_id,\n",
    "        client_secret = client_oauth.client_secret\n",
    "    )\n",
    "    \n",
    "    #create authorization url\n",
    "    auth_url, csrf_token = oauth.get_authorization_url(client_oauth.client_redirect_url)\n",
    "    \n",
    "    #redirect\n",
    "    webbrowser.open(auth_url)\n",
    "    \n",
    "    return oauth"
   ]
  },
  {
   "cell_type": "code",
   "execution_count": null,
   "metadata": {},
   "outputs": [],
   "source": [
    "# export\n",
    "def read_data_from_box(oauth=None, access_token = None, file_id = None):\n",
    "    '''\n",
    "    Function read_data_from_box: reads file_id from Box using oauth provided by start_box_authentication and copied access token from redirect\n",
    "        Inputs: oauth (default None): Oauth object e.g., output from start_box_authentication; no need to pass in if you have a persistent access token provided\n",
    "                                      in your client_oauth.py file\n",
    "                access_token (default None): String of code copied from the redirect url of start_box_authentication or persistent token stored in client_oauth.py file\n",
    "                file_id (default None): String of Box file id to be read\n",
    "        Returns: read file content\n",
    "    '''\n",
    "    \n",
    "    # get authorization\n",
    "    if oauth is None:\n",
    "        oauth = OAuth2(\n",
    "            client_id = client_oauth.client_id,\n",
    "            client_secret = client_oauth.client_secret,\n",
    "            access_token = client_oauth.access_token)\n",
    "    else:\n",
    "        oauth.authenticate(access_token)\n",
    "\n",
    "    client = Client(oauth)\n",
    "\n",
    "    # create file\n",
    "    file_content = client.file(file_id).content()\n",
    "    \n",
    "    return file_content"
   ]
  },
  {
   "cell_type": "markdown",
   "metadata": {},
   "source": [
    "# Example of usage"
   ]
  },
  {
   "cell_type": "code",
   "execution_count": null,
   "metadata": {},
   "outputs": [],
   "source": [
    "# get authentication (imports and functions above must have been run)\n",
    "oauth = start_box_authentication()"
   ]
  },
  {
   "cell_type": "code",
   "execution_count": null,
   "metadata": {},
   "outputs": [],
   "source": [
    "# read data from file_id using copied access token\n",
    "data = read_data_from_box(oauth, file_id = '87362564894736', access_token = 'luaefhlaiuehaliueig97ryfc')"
   ]
  }
 ],
 "metadata": {
  "kernelspec": {
   "display_name": "Python 3",
   "language": "python",
   "name": "python3"
  }
 },
 "nbformat": 4,
 "nbformat_minor": 4
}
