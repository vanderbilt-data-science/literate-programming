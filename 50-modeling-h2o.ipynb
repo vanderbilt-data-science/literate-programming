{
 "cells": [
  {
   "cell_type": "markdown",
   "metadata": {},
   "source": [
    "# 50-modeling-h2o\n",
    "> Training models using h2o\n",
    "\n",
    "In this notebook series, we train models using the h2o modeling package."
   ]
  },
  {
   "cell_type": "markdown",
   "metadata": {},
   "source": [
    "#### Common helpful packages"
   ]
  },
  {
   "cell_type": "code",
   "execution_count": null,
   "metadata": {},
   "outputs": [],
   "source": [
    "#Data analysis and processing\n",
    "import pandas as pd\n",
    "import numpy as np\n",
    "\n",
    "#machine learning\n",
    "import h2o\n",
    "\n",
    "#plotting\n",
    "import matplotlib.pyplot as plt\n",
    "import seaborn as sns"
   ]
  },
  {
   "cell_type": "code",
   "execution_count": null,
   "metadata": {},
   "outputs": [],
   "source": [
    "#Constants/globals\n",
    "cleaned_data_filename = ''\n",
    "\n",
    "#for machine learning\n",
    "training_ratio = 0.7\n",
    "max_models = None\n",
    "repro_seed = 1234\n",
    "max_runtime_mins = 5"
   ]
  },
  {
   "cell_type": "markdown",
   "metadata": {},
   "source": [
    "# Initialize h2o and configure data"
   ]
  },
  {
   "cell_type": "code",
   "execution_count": null,
   "metadata": {},
   "outputs": [],
   "source": [
    "#init h2o\n",
    "h2o.init()"
   ]
  },
  {
   "cell_type": "code",
   "execution_count": null,
   "metadata": {},
   "outputs": [],
   "source": [
    "#read the data from file\n",
    "df = pd.read_csv(cleaned_data_filename)\n",
    "\n",
    "#convert to h2o format\n",
    "h2o_df = h2o.H2OFrame(df)"
   ]
  },
  {
   "cell_type": "markdown",
   "metadata": {},
   "source": [
    "# Generate models using h2o"
   ]
  },
  {
   "cell_type": "code",
   "execution_count": null,
   "metadata": {},
   "outputs": [],
   "source": [
    "#split data into desired portions and identify variables of interest\n",
    "data_train, data_val = h2o_df.split_frame(ratios=(training_ratio), seed=repro_seed)\n",
    "\n",
    "predictors = ['col1', 'col2']\n",
    "response = 'coly'"
   ]
  },
  {
   "cell_type": "code",
   "execution_count": null,
   "metadata": {},
   "outputs": [],
   "source": [
    "#set columns as factors if necessary\n",
    "data['col'] = data['col'].as_factor()"
   ]
  },
  {
   "cell_type": "code",
   "execution_count": null,
   "metadata": {},
   "outputs": [],
   "source": [
    "#identify model and train\n",
    "mls = H2OAutoML(max_models=max_models, max_runtime_secs = 60* max_runtime_mins, seed=repro_seed)\n",
    "mls.train(x=predictors, y=response, training_frame=data_train)"
   ]
  },
  {
   "cell_type": "code",
   "execution_count": null,
   "metadata": {},
   "outputs": [],
   "source": [
    "#View leaderboard\n",
    "mls.leaderboard"
   ]
  },
  {
   "cell_type": "markdown",
   "metadata": {},
   "source": [
    "### h2o performance evaluation"
   ]
  },
  {
   "cell_type": "code",
   "execution_count": null,
   "metadata": {},
   "outputs": [],
   "source": [
    "#See full performance of model on original training data\n",
    "mls.leader.model_performance(train_data)"
   ]
  },
  {
   "cell_type": "code",
   "execution_count": null,
   "metadata": {},
   "outputs": [],
   "source": [
    "#Predict outputs using leader (usage of the leader done automatically)\n",
    "res = mls.predict(test_data)"
   ]
  },
  {
   "cell_type": "code",
   "execution_count": null,
   "metadata": {},
   "outputs": [],
   "source": [
    "#See full performance of model\n",
    "mls.leader.model_performance(test_data)"
   ]
  },
  {
   "cell_type": "code",
   "execution_count": null,
   "metadata": {},
   "outputs": [],
   "source": [
    "#Save model"
   ]
  }
 ],
 "metadata": {
  "kernelspec": {
   "display_name": "Python 3",
   "language": "python",
   "name": "python3"
  }
 },
 "nbformat": 4,
 "nbformat_minor": 4
}
